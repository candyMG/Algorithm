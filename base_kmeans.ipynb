{
 "cells": [
  {
   "cell_type": "code",
   "execution_count": 1,
   "metadata": {
    "collapsed": true
   },
   "outputs": [],
   "source": [
    "import numpy as np"
   ]
  },
  {
   "cell_type": "code",
   "execution_count": 13,
   "metadata": {
    "collapsed": true
   },
   "outputs": [],
   "source": [
    "def loadDataSet(fileName):\n",
    "    dataMat =[]\n",
    "    fr = open(fileName)\n",
    "    for line in fr.readlines():\n",
    "        curLine = line.strip().split(\"\\t\")\n",
    "        fltLine = list(map(float,curLine))\n",
    "        dataMat.append(fltLine)\n",
    "    return dataMat"
   ]
  },
  {
   "cell_type": "code",
   "execution_count": 14,
   "metadata": {
    "collapsed": false
   },
   "outputs": [],
   "source": [
    "fileName =\"testSet.txt\"\n",
    "dataList = loadDataSet(fileName)"
   ]
  },
  {
   "cell_type": "code",
   "execution_count": 16,
   "metadata": {
    "collapsed": false
   },
   "outputs": [],
   "source": [
    "def distEclud(vecA,vecB):\n",
    "    return np.sqrt(np.sum(np.power(vecA-vecB,2)))"
   ]
  },
  {
   "cell_type": "code",
   "execution_count": 18,
   "metadata": {
    "collapsed": true
   },
   "outputs": [],
   "source": [
    "def randCent(dataSet,k):\n",
    "    n = dataSet.shape[1]\n",
    "    centroids = np.mat(np.zeros((k,n)))\n",
    "    for j in range(n):\n",
    "        minJ = min(dataSet[:,j])\n",
    "        rangJ = float(max(dataSet[:,j])-minJ)\n",
    "        centroids[:,j] = minJ + rangJ * np.random.rand(k,1)\n",
    "    return centroids\n",
    "        "
   ]
  },
  {
   "cell_type": "code",
   "execution_count": 19,
   "metadata": {
    "collapsed": false
   },
   "outputs": [
    {
     "data": {
      "text/plain": [
       "matrix([[-4.232586]])"
      ]
     },
     "execution_count": 19,
     "metadata": {},
     "output_type": "execute_result"
    }
   ],
   "source": [
    "dataMat = np.mat(dataList)\n",
    "min(dataMat[:,1])"
   ]
  },
  {
   "cell_type": "code",
   "execution_count": 22,
   "metadata": {
    "collapsed": false
   },
   "outputs": [
    {
     "name": "stdout",
     "output_type": "stream",
     "text": [
      "[[ 1.658985  4.285136]]\n",
      "[[ 1.658985  4.285136]]\n"
     ]
    }
   ],
   "source": [
    "print(dataMat[0])\n",
    "print(dataMat[0,:])"
   ]
  },
  {
   "cell_type": "code",
   "execution_count": 20,
   "metadata": {
    "collapsed": false
   },
   "outputs": [
    {
     "data": {
      "text/plain": [
       "matrix([[ 0.89464189,  3.59867419],\n",
       "        [-3.98522945,  2.18740526]])"
      ]
     },
     "execution_count": 20,
     "metadata": {},
     "output_type": "execute_result"
    }
   ],
   "source": [
    "randCent(dataMat,2)"
   ]
  },
  {
   "cell_type": "code",
   "execution_count": 21,
   "metadata": {
    "collapsed": false
   },
   "outputs": [
    {
     "data": {
      "text/plain": [
       "5.184632816681332"
      ]
     },
     "execution_count": 21,
     "metadata": {},
     "output_type": "execute_result"
    }
   ],
   "source": [
    "distEclud(dataMat[0],dataMat[1])"
   ]
  },
  {
   "cell_type": "code",
   "execution_count": 26,
   "metadata": {
    "collapsed": false
   },
   "outputs": [],
   "source": [
    "def KMeans(dataSet,k,distMeans = distEclud,createCent = randCent):\n",
    "    m = dataSet.shape[0]\n",
    "    clusterAssment = np.mat(np.zeros((m,2)))\n",
    "    centroids = createCent(dataSet,k)\n",
    "    clusterChanged = True\n",
    "    while clusterChanged:\n",
    "        clusterChanged = False\n",
    "        for i in range(m):\n",
    "            minDist = np.inf ; minIndex = -1\n",
    "            for j in range(k):\n",
    "                distJI = distMeans(dataSet[i,:],centroids[j,:])\n",
    "                if distJI < minDist:\n",
    "                    minDist = distJI\n",
    "                    minIndex = j\n",
    "            if clusterAssment[i,0] != minIndex : \n",
    "                clusterChanged = True\n",
    "            clusterAssment[i,:] = minIndex, minDist **2\n",
    "        print(centroids)\n",
    "        for cent in range(k):\n",
    "            ptsInClust = dataSet[np.nonzero(clusterAssment[:,0].A == cent)[0]]\n",
    "            centroids[cent,:] = np.mean(ptsInClust,axis=0)\n",
    "    return centroids ,clusterAssment"
   ]
  },
  {
   "cell_type": "code",
   "execution_count": 28,
   "metadata": {
    "collapsed": false
   },
   "outputs": [
    {
     "name": "stdout",
     "output_type": "stream",
     "text": [
      "[[ 2.76601941  0.08400811]\n",
      " [-2.87109464  3.84112116]\n",
      " [ 0.86722025 -0.19362667]\n",
      " [-3.65402242  2.52736916]]\n",
      "[[ 3.01944982  0.40588112]\n",
      " [-1.85352157  3.26866   ]\n",
      " [-1.61953947 -2.74384563]\n",
      " [-3.65788207 -0.19129671]]\n",
      "[[ 3.00109112  0.05348327]\n",
      " [-1.66751027  3.1686925 ]\n",
      " [-2.35258211 -3.16690544]\n",
      " [-4.04190857 -1.446827  ]]\n",
      "[[ 2.99405094 -0.1605263 ]\n",
      " [-1.6334182   3.03655888]\n",
      " [-2.37454129 -3.29526836]\n",
      " [-4.12671313 -2.51734387]]\n",
      "[[ 2.99405094 -0.1605263 ]\n",
      " [-1.6334182   3.03655888]\n",
      " [-1.7671259  -3.2956472 ]\n",
      " [-4.04883533 -2.77633633]]\n",
      "[[ 2.99405094 -0.1605263 ]\n",
      " [-1.6334182   3.03655888]\n",
      " [-1.46335425 -3.40428925]\n",
      " [-3.89646064 -2.78844243]]\n",
      "[[ 2.99405094 -0.1605263 ]\n",
      " [-1.6334182   3.03655888]\n",
      " [-1.05904467 -3.687141  ]\n",
      " [-3.74393844 -2.75935387]]\n",
      "[[ 3.02935331 -0.06628309]\n",
      " [-1.6334182   3.03655888]\n",
      " [ 0.1481304  -3.7396762 ]\n",
      " [-3.61853111 -2.81946867]]\n",
      "[[ 3.09104296  1.05927767]\n",
      " [-1.6334182   3.03655888]\n",
      " [ 2.1347005  -3.50079317]\n",
      " [-3.53973889 -2.89384326]]\n",
      "[[ 2.8962499   2.36603565]\n",
      " [-1.94392522  2.96291883]\n",
      " [ 2.54173689 -3.11892933]\n",
      " [-3.53973889 -2.89384326]]\n",
      "[[ 2.6265299   3.10868015]\n",
      " [-2.46154315  2.78737555]\n",
      " [ 2.65077367 -2.79019029]\n",
      " [-3.53973889 -2.89384326]]\n"
     ]
    }
   ],
   "source": [
    "myCentroids ,clustAssing = KMeans(dataMat,4)"
   ]
  },
  {
   "cell_type": "code",
   "execution_count": 37,
   "metadata": {
    "collapsed": true
   },
   "outputs": [],
   "source": [
    "def biKMeans(dataMat,k,distMeas = distEclud):\n",
    "    m = dataMat.shape[0]\n",
    "    clusterAssment = np.mat(np.zeros((m,2)))\n",
    "    centroid0 = np.mean(dataMat,axis=0).tolist()[0]\n",
    "    centList = [centroid0]\n",
    "    for j in range(m):\n",
    "        clusterAssment[j,1] = distMeas(np.mat(centroid0),dataMat[j,:]) **2\n",
    "    while(len(centList)<k):\n",
    "        lowestSSE = np.inf\n",
    "        for i in range(len(centList)):\n",
    "            ptsInCurrentCluster = dataMat[np.nonzero(clusterAssment[:,0].A==i)[0],:]\n",
    "            centroidMat,splitClustAss = KMeans(ptsInCurrentCluster,2,distMeas)\n",
    "            sseSplit = np.sum(splitClustAss[:,1])\n",
    "            sseNotSplit = np.sum(clusterAssment[np.nonzero(clusterAssment[:,0].A !=i)[0],1])\n",
    "            print(\"sseSplit and sseNotSplit :\" ,sseSplit,sseNotSplit)\n",
    "            if(sseSplit + sseNotSplit) < lowestSSE:\n",
    "                lowestSSE = sseSplit + sseNotSplit\n",
    "                bestCentToSplit = i\n",
    "                bestNewCents = centroidMat\n",
    "                bestClustAss = splitClustAss.copy()\n",
    "        bestClustAss[np.nonzero(bestClustAss[:,0].A== 1)[0],0] = len(centList)\n",
    "        bestClustAss[np.nonzero(bestClustAss[:,0].A == 0)[0],0] = bestCentToSplit\n",
    "        centList[bestCentToSplit] = bestNewCents[0,:]\n",
    "        centList.append(bestNewCents[1,:])\n",
    "        clusterAssment[np.nonzero(clusterAssment[:,0].A == bestCentToSplit)[0],:] = bestClustAss\n",
    "    return centList,clusterAssment"
   ]
  },
  {
   "cell_type": "code",
   "execution_count": 38,
   "metadata": {
    "collapsed": false
   },
   "outputs": [
    {
     "name": "stdout",
     "output_type": "stream",
     "text": [
      "[[-3.76994231  0.82670627]\n",
      " [-3.61128678  3.52743566]]\n",
      "[[-0.24627267 -2.28661917]\n",
      " [ 0.08939665  3.22142876]]\n",
      "[[-0.2897198  -2.83942545]\n",
      " [ 0.08249337  2.94802785]]\n",
      "sseSplit and sseNotSplit : 792.916856537 0.0\n",
      "[[ 2.33708241 -0.94865242]\n",
      " [-1.63406295 -2.78574888]]\n",
      "[[ 3.03713839 -2.62802833]\n",
      " [-3.01169468 -3.01238673]]\n",
      "[[ 2.80293085 -2.7315146 ]\n",
      " [-3.38237045 -2.9473363 ]]\n",
      "sseSplit and sseNotSplit : 83.5874695564 326.284075201\n",
      "[[-3.53496873  1.44396209]\n",
      " [ 2.51761207  1.30012101]]\n",
      "[[-2.46154315  2.78737555]\n",
      " [ 2.6265299   3.10868015]]\n",
      "sseSplit and sseNotSplit : 66.36683512 466.632781336\n"
     ]
    }
   ],
   "source": [
    "centList , myNewClustAssment = biKMeans(dataMat,3)"
   ]
  },
  {
   "cell_type": "code",
   "execution_count": null,
   "metadata": {
    "collapsed": true
   },
   "outputs": [],
   "source": []
  }
 ],
 "metadata": {
  "kernelspec": {
   "display_name": "Python 3",
   "language": "python",
   "name": "python3"
  },
  "language_info": {
   "codemirror_mode": {
    "name": "ipython",
    "version": 3
   },
   "file_extension": ".py",
   "mimetype": "text/x-python",
   "name": "python",
   "nbconvert_exporter": "python",
   "pygments_lexer": "ipython3",
   "version": "3.6.0"
  }
 },
 "nbformat": 4,
 "nbformat_minor": 2
}
