{
 "cells": [
  {
   "cell_type": "code",
   "execution_count": 1,
   "metadata": {
    "collapsed": true
   },
   "outputs": [],
   "source": [
    "import numpy as np\n",
    "import math"
   ]
  },
  {
   "cell_type": "code",
   "execution_count": 2,
   "metadata": {
    "collapsed": true
   },
   "outputs": [],
   "source": [
    "UNCLASSIFIED = False\n",
    "NOISE = None"
   ]
  },
  {
   "cell_type": "code",
   "execution_count": 4,
   "metadata": {
    "collapsed": true
   },
   "outputs": [],
   "source": [
    "#计算距离\n",
    "def _dist(p,q):\n",
    "    return math.sqrt(np.power(p-q,2).sum())"
   ]
  },
  {
   "cell_type": "code",
   "execution_count": 5,
   "metadata": {
    "collapsed": true
   },
   "outputs": [],
   "source": [
    "def _eps_neighborhood(p,q,eps):\n",
    "    return _dist(p,q)< eps"
   ]
  },
  {
   "cell_type": "code",
   "execution_count": 6,
   "metadata": {
    "collapsed": true
   },
   "outputs": [],
   "source": [
    "def _region_query(m,point_id,eps):\n",
    "    n_points = m.shape[1]\n",
    "    seeds = []\n",
    "    for i in range(n_points):\n",
    "        if _eps_neighborhood(m[:,i],m[:,point_id],eps):\n",
    "            seeds.append(i)\n",
    "    return seeds"
   ]
  },
  {
   "cell_type": "code",
   "execution_count": 20,
   "metadata": {
    "collapsed": false
   },
   "outputs": [],
   "source": [
    "def _expand_cluster(m,classifications,point_id,cluster_id,eps,min_points):\n",
    "    seeds = _region_query(m,point_id,eps)\n",
    "    if (len(seeds)) < min_points:\n",
    "        classifications[point_id] = NOISE\n",
    "        return False\n",
    "    else:\n",
    "        classifications[point_id] = cluster_id\n",
    "        for seed_id in seeds:\n",
    "            classifications[seed_id] = cluster_id\n",
    "        while(len(seeds) > 0):\n",
    "            current_point = seeds[0]\n",
    "            results = _region_query(m,current_point,eps)\n",
    "            if len(results)>= min_points:\n",
    "                for i in range(0,len(results)):\n",
    "                    result_point = results[i]\n",
    "                    if (classifications[result_point] ==UNCLASSIFIED) or (classifications[result_point]) == NOISE:\n",
    "                        if classifications[result_point] == UNCLASSIFIED:\n",
    "                            seeds.append(result_point)\n",
    "                        classifications[result_point] = cluster_id\n",
    "            seeds = seeds[1:]\n",
    "        return True\n",
    "                        "
   ]
  },
  {
   "cell_type": "code",
   "execution_count": 23,
   "metadata": {
    "collapsed": true
   },
   "outputs": [],
   "source": [
    "def dbscan(m,eps,min_point):\n",
    "    cluster_id = 1\n",
    "    n_points = m.shape[1]\n",
    "    classifications = [UNCLASSIFIED]*n_points\n",
    "    for point_id in range(0,n_points):\n",
    "        point = m[:,point_id]\n",
    "        if classifications[point_id] == UNCLASSIFIED:\n",
    "            if _expand_cluster(m,classifications,point_id,cluster_id,eps,min_point):\n",
    "                cluster_id =cluster_id+1\n",
    "    return classifications"
   ]
  },
  {
   "cell_type": "code",
   "execution_count": 24,
   "metadata": {
    "collapsed": true
   },
   "outputs": [],
   "source": [
    "def test_dbscan():\n",
    "    m = np.matrix('1 1.2 0.8 3.7 3.9 3.6 10; 1.1 0.8 1 4 3.9 4.1 10')\n",
    "    eps = 0.5\n",
    "    min_points = 2\n",
    "    #return dbscan(m, eps, min_points)\n",
    "    assert dbscan(m, eps, min_points) == [1, 1, 1, 2, 2, 2, None]"
   ]
  },
  {
   "cell_type": "code",
   "execution_count": 26,
   "metadata": {
    "collapsed": false
   },
   "outputs": [
    {
     "data": {
      "text/plain": [
       "[1, 1, 1, 2, 2, 2, None]"
      ]
     },
     "execution_count": 26,
     "metadata": {},
     "output_type": "execute_result"
    }
   ],
   "source": [
    "test_dbscan()"
   ]
  },
  {
   "cell_type": "code",
   "execution_count": null,
   "metadata": {
    "collapsed": true
   },
   "outputs": [],
   "source": []
  }
 ],
 "metadata": {
  "kernelspec": {
   "display_name": "Python 3",
   "language": "python",
   "name": "python3"
  },
  "language_info": {
   "codemirror_mode": {
    "name": "ipython",
    "version": 3
   },
   "file_extension": ".py",
   "mimetype": "text/x-python",
   "name": "python",
   "nbconvert_exporter": "python",
   "pygments_lexer": "ipython3",
   "version": "3.6.0"
  }
 },
 "nbformat": 4,
 "nbformat_minor": 2
}
