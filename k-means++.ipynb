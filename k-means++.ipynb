{
 "cells": [
  {
   "cell_type": "code",
   "execution_count": 1,
   "metadata": {
    "collapsed": true
   },
   "outputs": [],
   "source": [
    "import numpy as np\n",
    "import random"
   ]
  },
  {
   "cell_type": "code",
   "execution_count": 5,
   "metadata": {
    "collapsed": true
   },
   "outputs": [],
   "source": [
    "def loadDataSet(fileName):\n",
    "    dataMat =[]\n",
    "    fr = open(fileName)\n",
    "    for line in fr.readlines():\n",
    "        curLine = line.strip().split(\"\\t\")\n",
    "        fltLine = list(map(float,curLine))\n",
    "        dataMat.append(fltLine)\n",
    "    return dataMat"
   ]
  },
  {
   "cell_type": "code",
   "execution_count": 3,
   "metadata": {
    "collapsed": false
   },
   "outputs": [],
   "source": [
    "def eDistance(vecA,vecB):\n",
    "    vecB = np.array(vecB)\n",
    "    return np.sqrt(np.sum(np.power(vecA-vecB,2)))"
   ]
  },
  {
   "cell_type": "code",
   "execution_count": 4,
   "metadata": {
    "collapsed": true
   },
   "outputs": [],
   "source": [
    "def distancePointToClosestCenter(x,centroids):\n",
    "    result = eDistance(x,centroids[0])\n",
    "    for centroid in centroids[1:]:\n",
    "        distance = eDistance(x,centroid)\n",
    "        if distance < result:\n",
    "            result = distance\n",
    "    return result"
   ]
  },
  {
   "cell_type": "code",
   "execution_count": 27,
   "metadata": {
    "collapsed": true
   },
   "outputs": [],
   "source": [
    "def selectInitialCenter(dataSet,k):\n",
    "    dataSize = dataSet.shape[0]\n",
    "    centroids = []\n",
    "    total = 0\n",
    "    randomIndex= random.choice(range(dataSize))\n",
    "    firstCenter = dataSet[randomIndex]\n",
    "    centroids.append(firstCenter)\n",
    "    while len(centroids) < k:\n",
    "        weights = [distancePointToClosestCenter(x,centroids) for x in dataSet]\n",
    "        total = np.sum(weights)\n",
    "        weights = [x/ total for x in weights]\n",
    "        print(len(weights))\n",
    "        num = random.random()\n",
    "        total = 0\n",
    "        x = -1\n",
    "        while  total < num:\n",
    "            x +=1\n",
    "            total +=weights[x]\n",
    "        centroids.append(dataSet[x])\n",
    "    return centroids"
   ]
  },
  {
   "cell_type": "code",
   "execution_count": 16,
   "metadata": {
    "collapsed": true
   },
   "outputs": [],
   "source": [
    "fileName = \"testSet.txt\"\n",
    "dataList = loadDataSet(fileName)\n",
    "dataMat = np.mat(dataList)"
   ]
  },
  {
   "cell_type": "code",
   "execution_count": 17,
   "metadata": {
    "collapsed": false
   },
   "outputs": [
    {
     "data": {
      "text/plain": [
       "(80, 2)"
      ]
     },
     "execution_count": 17,
     "metadata": {},
     "output_type": "execute_result"
    }
   ],
   "source": [
    "dataMat.shape"
   ]
  },
  {
   "cell_type": "code",
   "execution_count": 28,
   "metadata": {
    "collapsed": false
   },
   "outputs": [
    {
     "name": "stdout",
     "output_type": "stream",
     "text": [
      "80\n",
      "80\n"
     ]
    }
   ],
   "source": [
    "cent = selectInitialCenter(dataMat,3)"
   ]
  },
  {
   "cell_type": "code",
   "execution_count": 24,
   "metadata": {
    "collapsed": false
   },
   "outputs": [
    {
     "data": {
      "text/plain": [
       "[matrix([[-2.651229, -3.103198]]),\n",
       " matrix([[ 4.479332, -1.764772]]),\n",
       " matrix([[ 4.208187,  2.984927]]),\n",
       " matrix([[-1.616805,  3.573188]])]"
      ]
     },
     "execution_count": 24,
     "metadata": {},
     "output_type": "execute_result"
    }
   ],
   "source": [
    "cent"
   ]
  },
  {
   "cell_type": "code",
   "execution_count": null,
   "metadata": {
    "collapsed": true
   },
   "outputs": [],
   "source": []
  }
 ],
 "metadata": {
  "kernelspec": {
   "display_name": "Python 3",
   "language": "python",
   "name": "python3"
  },
  "language_info": {
   "codemirror_mode": {
    "name": "ipython",
    "version": 3
   },
   "file_extension": ".py",
   "mimetype": "text/x-python",
   "name": "python",
   "nbconvert_exporter": "python",
   "pygments_lexer": "ipython3",
   "version": "3.6.0"
  }
 },
 "nbformat": 4,
 "nbformat_minor": 2
}
