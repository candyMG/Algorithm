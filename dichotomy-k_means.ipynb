{
 "cells": [
  {
   "cell_type": "markdown",
   "metadata": {},
   "source": [
    "一种用于度量聚类效果的指标是SSE（sum of Squared Error，误差平方和）。"
   ]
  },
  {
   "cell_type": "markdown",
   "metadata": {},
   "source": [
    "二分K-Means 算法：\n",
    "该算法首先将所有的点作为一个簇，然后将该簇一分为二。之后选择其中一个簇继续进行划分。选择哪个簇进行划分取决于对其划分是否可以最大程度降低SSE的值"
   ]
  },
  {
   "cell_type": "raw",
   "metadata": {},
   "source": [
    "伪代码：\n",
    "将所有的点看成一个簇\n",
    "当簇数目小于k时\n",
    "对于每一个簇\n",
    "    计算总误差\n",
    "    在给定的簇上面进行K-Menas聚类(k=2)\n",
    "    计算将该簇一分为二之后的总误差\n",
    "选择使得误差最小的那个簇进行划分操作"
   ]
  },
  {
   "cell_type": "code",
   "execution_count": 1,
   "metadata": {
    "collapsed": true
   },
   "outputs": [],
   "source": [
    "import numpy as np"
   ]
  },
  {
   "cell_type": "code",
   "execution_count": 5,
   "metadata": {
    "collapsed": true
   },
   "outputs": [],
   "source": [
    "def loadDataSet(fileName):\n",
    "    dataMat =[]\n",
    "    fr = open(fileName)\n",
    "    for line in fr.readlines():\n",
    "        curLine = line.strip().split(\"\\t\")\n",
    "        fltLine = list(map(float,curLine))\n",
    "        dataMat.append(fltLine)\n",
    "    return dataMat"
   ]
  },
  {
   "cell_type": "code",
   "execution_count": 2,
   "metadata": {
    "collapsed": true
   },
   "outputs": [],
   "source": [
    "def distEclud(vecA,vecB):\n",
    "    return np.sqrt(np.sum(np.power(vecA-vecB,2)))"
   ]
  },
  {
   "cell_type": "code",
   "execution_count": 3,
   "metadata": {
    "collapsed": true
   },
   "outputs": [],
   "source": [
    "def randCent(dataMat,k):\n",
    "    n = dataMat.shape[1]\n",
    "    centroids = np.mat(np.zeros((k,n)))\n",
    "    for j in range(n):\n",
    "        minJ = np.min(dataMat[:,j])\n",
    "        rangJ = float(np.max(dataMat[:,j])- minJ)\n",
    "        centroids[:,j] = minJ + rangJ * np.random.rand(k,1)\n",
    "    return centroids"
   ]
  },
  {
   "cell_type": "code",
   "execution_count": 16,
   "metadata": {
    "collapsed": true
   },
   "outputs": [],
   "source": [
    "def KMeans(dataMat,k , dist = distEclud,createCent = randCent):\n",
    "    m = dataMat.shape[0]\n",
    "    clusterAssment = np.mat(np.zeros((m,2)))\n",
    "    centroids = createCent(dataMat,k)\n",
    "    clusterChanged = True\n",
    "    while clusterChanged:\n",
    "        clusterChanged = False\n",
    "        for i in range(m):\n",
    "            minDist = np.inf ; minIndex = -1\n",
    "            for j in range(k):\n",
    "                distJI = dist(dataMat[i,:],centroids[j,:])\n",
    "                if distJI < minDist:\n",
    "                    minDist = distJI\n",
    "                    minIndex = j\n",
    "            if clusterAssment[i,0] != minIndex :\n",
    "                clusterChanged = True\n",
    "            clusterAssment[i,:] = minIndex,minDist **2\n",
    "        print(centroids)\n",
    "        for cent in range(k):\n",
    "            ptsInClust = dataMat[np.nonzero(clusterAssment[:,0].A==cent)[0]]\n",
    "            centroids[cent,:] = np.mean(ptsInClust,axis=0)\n",
    "        return centroids,clusterAssment"
   ]
  },
  {
   "cell_type": "code",
   "execution_count": 17,
   "metadata": {
    "collapsed": true
   },
   "outputs": [],
   "source": [
    "fileName = \"testSet.txt\"\n",
    "dataList = loadDataSet(fileName)"
   ]
  },
  {
   "cell_type": "code",
   "execution_count": 18,
   "metadata": {
    "collapsed": false
   },
   "outputs": [
    {
     "name": "stdout",
     "output_type": "stream",
     "text": [
      "[[ 1.25275957 -3.36686843]\n",
      " [-4.58901932  1.73669245]\n",
      " [ 4.33748497  2.52882792]\n",
      " [-3.30243718  0.11060232]]\n"
     ]
    }
   ],
   "source": [
    "dataMat = np.mat(dataList)\n",
    "myCentroids , clustAssing = KMeans(dataMat,4)"
   ]
  },
  {
   "cell_type": "code",
   "execution_count": 19,
   "metadata": {
    "collapsed": true
   },
   "outputs": [],
   "source": [
    "def biKMeans(dataMat,k,distMeas = distEclud):\n",
    "    m = dataMat.shape[0]\n",
    "    clusterAssment = np.mat(np.zeros((m,2)))\n",
    "    centroid0 = np.mean(dataMat,axis=0).tolist()[0]\n",
    "    centList = [centroid0]\n",
    "    for j in range(m):\n",
    "        clusterAssment[j,1] = distMeas(np.mat(centroid0),dataMat[j,:]) **2\n",
    "    while(len(centList)<k):\n",
    "        lowestSSE = np.inf\n",
    "        for i in range(len(centList)):\n",
    "            ptsInCurrentCluster = dataMat[np.nonzero(clusterAssment[:,0].A==i)[0],:]\n",
    "            centroidMat,splitClustAss = KMeans(ptsInCurrentCluster,2,distMeas)\n",
    "            sseSplit = np.sum(splitClustAss[:,1])\n",
    "            sseNotSplit = np.sum(clusterAssment[np.nonzero(clusterAssment[:,0].A !=i)[0],1])\n",
    "            print(\"sseSplit and sseNotSplit :\" ,sseSplit,sseNotSplit)\n",
    "            if(sseSplit + sseNotSplit) < lowestSSE:\n",
    "                lowestSSE = sseSplit + sseNotSplit\n",
    "                bestCentToSplit = i\n",
    "                bestNewCents = centroidMat\n",
    "                bestClustAss = splitClustAss.copy()\n",
    "        bestClustAss[np.nonzero(bestClustAss[:,0].A== 1)[0],0] = len(centList)\n",
    "        bestClustAss[np.nonzero(bestClustAss[:,0].A == 0)[0],0] = bestCentToSplit\n",
    "        centList[bestCentToSplit] = bestNewCents[0,:]\n",
    "        centList.append(bestNewCents[1,:])\n",
    "        clusterAssment[np.nonzero(clusterAssment[:,0].A == bestCentToSplit)[0],:] = bestClustAss\n",
    "    return centList,clusterAssment"
   ]
  },
  {
   "cell_type": "code",
   "execution_count": 20,
   "metadata": {
    "collapsed": false
   },
   "outputs": [
    {
     "name": "stdout",
     "output_type": "stream",
     "text": [
      "[[-2.3904144  -2.10554694]\n",
      " [ 3.68437533  3.40582448]]\n",
      "sseSplit and sseNotSplit : 1113.07235419 0.0\n",
      "[[-4.30304081  2.50557118]\n",
      " [-4.44330852  2.84961436]]\n",
      "sseSplit and sseNotSplit : 1936.34287149 243.118628549\n",
      "[[-0.37868348  0.55177851]\n",
      " [ 0.09761848  2.7057615 ]]\n",
      "sseSplit and sseNotSplit : 296.805885118 869.953725641\n"
     ]
    }
   ],
   "source": [
    "centList,myNewAssment = biKMeans(dataMat,3)"
   ]
  },
  {
   "cell_type": "code",
   "execution_count": null,
   "metadata": {
    "collapsed": true
   },
   "outputs": [],
   "source": []
  }
 ],
 "metadata": {
  "kernelspec": {
   "display_name": "Python 3",
   "language": "python",
   "name": "python3"
  },
  "language_info": {
   "codemirror_mode": {
    "name": "ipython",
    "version": 3
   },
   "file_extension": ".py",
   "mimetype": "text/x-python",
   "name": "python",
   "nbconvert_exporter": "python",
   "pygments_lexer": "ipython3",
   "version": "3.6.0"
  }
 },
 "nbformat": 4,
 "nbformat_minor": 2
}
